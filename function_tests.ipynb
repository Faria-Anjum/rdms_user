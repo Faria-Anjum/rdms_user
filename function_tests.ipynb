{
 "cells": [
  {
   "cell_type": "code",
   "execution_count": 63,
   "metadata": {},
   "outputs": [
    {
     "name": "stdout",
     "output_type": "stream",
     "text": [
      "8\n"
     ]
    }
   ],
   "source": [
    "def calc():\n",
    "    with open(r\"..\\files\\username_index.txt\",'r') as f:\n",
    "        st = int(f.read())\n",
    "    with open(r\"..\\files\\username_index.txt\",'w') as f:\n",
    "        nst = st + 1\n",
    "        f.write(str(nst))\n",
    "    return st\n",
    "\n",
    "x = calc()\n",
    "print(x)"
   ]
  },
  {
   "cell_type": "code",
   "execution_count": 12,
   "metadata": {},
   "outputs": [
    {
     "name": "stdout",
     "output_type": "stream",
     "text": [
      "16 15\n"
     ]
    }
   ],
   "source": [
    "def calc():\n",
    "    with open(r\"files\\username_index.txt\",'r') as f:\n",
    "        st = int(f.read())\n",
    "    with open(r\"files\\username_index.txt\",'w') as f:\n",
    "        nst = st + 1\n",
    "        f.write(str(nst))\n",
    "    return(st)\n",
    "\n",
    "\n",
    "x = calc()\n",
    "y = x-1\n",
    "print(x, y)"
   ]
  },
  {
   "cell_type": "code",
   "execution_count": 2,
   "metadata": {},
   "outputs": [
    {
     "name": "stdout",
     "output_type": "stream",
     "text": [
      "2024-11-14\n"
     ]
    }
   ],
   "source": [
    "from datetime import datetime\n",
    "\n",
    "today = datetime.now()\n",
    "\n",
    "if today.day in [28,29,30,31]:\n",
    "    if today.month == 12:\n",
    "        month = 1\n",
    "        year = today.year + 1\n",
    "    else:\n",
    "        month = today.month + 1\n",
    "        year = today.year\n",
    "    day = 1\n",
    "else:\n",
    "    year = today.year\n",
    "    month = today.month\n",
    "    day = today.day + 1\n",
    "\n",
    "if len(str(today.day))==1:\n",
    "    day = \"0\"+str(day)\n",
    "if len(str(today.month))==1:\n",
    "    month = \"0\"+str(month)\n",
    "\n",
    "day = f'{year}-{month}-{day}'\n",
    "print(day)"
   ]
  },
  {
   "cell_type": "code",
   "execution_count": null,
   "metadata": {},
   "outputs": [],
   "source": [
    "import openpyxl\n",
    "from openpyxl import load_workbook\n",
    "\n",
    "def readBulkUserID():\n",
    "    with open(r\"files\\bulkuser_id.txt\",'r') as f:\n",
    "        st = int(f.read())\n",
    "    return str(st)\n",
    "\n",
    "x = readBulkUserID()\n",
    "\n",
    "xlsx = load_workbook(filename=r\"files\\Bulk_User_Create_Valid.xlsx\")\n",
    "sheet = xlsx.active\n",
    "for i in range(2,7):\n",
    "    sheet[f\"A{i}\"] = \"BulkUser\"+str(int(x)+1)\n",
    "    sheet[f\"C{i}\"] = '0' + str(1800000000 + int(x) + 1)\n",
    "    x = int(x)+1\n",
    "\n",
    "xlsx.save(filename=r\"files\\Bulk_User_Create_Valid.xlsx\")\n",
    "\n"
   ]
  }
 ],
 "metadata": {
  "kernelspec": {
   "display_name": "Python 3",
   "language": "python",
   "name": "python3"
  },
  "language_info": {
   "codemirror_mode": {
    "name": "ipython",
    "version": 3
   },
   "file_extension": ".py",
   "mimetype": "text/x-python",
   "name": "python",
   "nbconvert_exporter": "python",
   "pygments_lexer": "ipython3",
   "version": "3.12.7"
  }
 },
 "nbformat": 4,
 "nbformat_minor": 2
}
