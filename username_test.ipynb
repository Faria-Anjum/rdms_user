{
 "cells": [
  {
   "cell_type": "code",
   "execution_count": 63,
   "metadata": {},
   "outputs": [
    {
     "name": "stdout",
     "output_type": "stream",
     "text": [
      "8\n"
     ]
    }
   ],
   "source": [
    "def calc():\n",
    "    with open(r\"..\\files\\username_index.txt\",'r') as f:\n",
    "        st = int(f.read())\n",
    "    with open(r\"..\\files\\username_index.txt\",'w') as f:\n",
    "        nst = st + 1\n",
    "        f.write(str(nst))\n",
    "    return st\n",
    "\n",
    "x = calc()\n",
    "print(x)"
   ]
  },
  {
   "cell_type": "code",
   "execution_count": 12,
   "metadata": {},
   "outputs": [
    {
     "name": "stdout",
     "output_type": "stream",
     "text": [
      "16 15\n"
     ]
    }
   ],
   "source": [
    "def calc():\n",
    "    with open(r\"files\\username_index.txt\",'r') as f:\n",
    "        st = int(f.read())\n",
    "    with open(r\"files\\username_index.txt\",'w') as f:\n",
    "        nst = st + 1\n",
    "        f.write(str(nst))\n",
    "    return(st)\n",
    "\n",
    "\n",
    "x = calc()\n",
    "y = x-1\n",
    "print(x, y)"
   ]
  }
 ],
 "metadata": {
  "kernelspec": {
   "display_name": "Python 3",
   "language": "python",
   "name": "python3"
  },
  "language_info": {
   "codemirror_mode": {
    "name": "ipython",
    "version": 3
   },
   "file_extension": ".py",
   "mimetype": "text/x-python",
   "name": "python",
   "nbconvert_exporter": "python",
   "pygments_lexer": "ipython3",
   "version": "3.12.7"
  }
 },
 "nbformat": 4,
 "nbformat_minor": 2
}
